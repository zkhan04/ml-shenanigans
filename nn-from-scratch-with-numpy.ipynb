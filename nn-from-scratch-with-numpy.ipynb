{
 "cells": [
  {
   "cell_type": "code",
   "execution_count": 1,
   "id": "0a764088",
   "metadata": {
    "_cell_guid": "b1076dfc-b9ad-4769-8c92-a6c4dae69d19",
    "_uuid": "8f2839f25d086af736a60e9eeb907d3b93b6e0e5",
    "execution": {
     "iopub.execute_input": "2023-07-16T17:35:55.657376Z",
     "iopub.status.busy": "2023-07-16T17:35:55.656862Z",
     "iopub.status.idle": "2023-07-16T17:35:56.670829Z",
     "shell.execute_reply": "2023-07-16T17:35:56.669371Z"
    },
    "papermill": {
     "duration": 1.026369,
     "end_time": "2023-07-16T17:35:56.673293",
     "exception": false,
     "start_time": "2023-07-16T17:35:55.646924",
     "status": "completed"
    },
    "tags": []
   },
   "outputs": [
    {
     "name": "stderr",
     "output_type": "stream",
     "text": [
      "/opt/conda/lib/python3.10/site-packages/scipy/__init__.py:146: UserWarning: A NumPy version >=1.16.5 and <1.23.0 is required for this version of SciPy (detected version 1.23.5\n",
      "  warnings.warn(f\"A NumPy version >={np_minversion} and <{np_maxversion}\"\n"
     ]
    },
    {
     "name": "stdout",
     "output_type": "stream",
     "text": [
      "/kaggle/input/mnist-in-csv/mnist_test.csv\n",
      "/kaggle/input/mnist-in-csv/mnist_train.csv\n"
     ]
    }
   ],
   "source": [
    "# This Python 3 environment comes with many helpful analytics libraries installed\n",
    "# It is defined by the kaggle/python Docker image: https://github.com/kaggle/docker-python\n",
    "# For example, here's several helpful packages to load\n",
    "\n",
    "import numpy as np # linear algebra\n",
    "import pandas as pd # data processing, CSV file I/O (e.g. pd.read_csv)\n",
    "from sklearn.preprocessing import MinMaxScaler\n",
    "\n",
    "\n",
    "# Input data files are available in the read-only \"../input/\" directory\n",
    "# For example, running this (by clicking run or pressing Shift+Enter) will list all files under the input directory\n",
    "\n",
    "import os\n",
    "for dirname, _, filenames in os.walk('/kaggle/input'):\n",
    "    for filename in filenames:\n",
    "        print(os.path.join(dirname, filename))\n",
    "\n",
    "# You can write up to 20GB to the current directory (/kaggle/working/) that gets preserved as output when you create a version using \"Save & Run All\" \n",
    "# You can also write temporary files to /kaggle/temp/, but they won't be saved outside of the current session"
   ]
  },
  {
   "cell_type": "code",
   "execution_count": 2,
   "id": "32273b92",
   "metadata": {
    "execution": {
     "iopub.execute_input": "2023-07-16T17:35:56.689776Z",
     "iopub.status.busy": "2023-07-16T17:35:56.689137Z",
     "iopub.status.idle": "2023-07-16T17:35:56.695404Z",
     "shell.execute_reply": "2023-07-16T17:35:56.694688Z"
    },
    "papermill": {
     "duration": 0.016859,
     "end_time": "2023-07-16T17:35:56.697468",
     "exception": false,
     "start_time": "2023-07-16T17:35:56.680609",
     "status": "completed"
    },
    "tags": []
   },
   "outputs": [],
   "source": [
    "# verified!!\n",
    "def initialize_random_weights(layer_sizes):\n",
    "    params = {}\n",
    "    for l in range(len(layer_sizes) - 1):\n",
    "        params['W' + str(l + 1)] = np.random.randn(layer_sizes[l + 1], layer_sizes[l]) * .01\n",
    "        params['b' + str(l + 1)] = np.zeros((layer_sizes[l + 1], 1))\n",
    "    return params"
   ]
  },
  {
   "cell_type": "code",
   "execution_count": 3,
   "id": "9baa3954",
   "metadata": {
    "execution": {
     "iopub.execute_input": "2023-07-16T17:35:56.713474Z",
     "iopub.status.busy": "2023-07-16T17:35:56.712896Z",
     "iopub.status.idle": "2023-07-16T17:35:56.717723Z",
     "shell.execute_reply": "2023-07-16T17:35:56.716970Z"
    },
    "papermill": {
     "duration": 0.01557,
     "end_time": "2023-07-16T17:35:56.719924",
     "exception": false,
     "start_time": "2023-07-16T17:35:56.704354",
     "status": "completed"
    },
    "tags": []
   },
   "outputs": [],
   "source": [
    "# verified!!\n",
    "def relu(z):\n",
    "    a = np.where(z < 0, 0, z)\n",
    "    return a"
   ]
  },
  {
   "cell_type": "code",
   "execution_count": 4,
   "id": "88aa6aee",
   "metadata": {
    "execution": {
     "iopub.execute_input": "2023-07-16T17:35:56.735724Z",
     "iopub.status.busy": "2023-07-16T17:35:56.735143Z",
     "iopub.status.idle": "2023-07-16T17:35:56.739942Z",
     "shell.execute_reply": "2023-07-16T17:35:56.739158Z"
    },
    "papermill": {
     "duration": 0.015117,
     "end_time": "2023-07-16T17:35:56.742038",
     "exception": false,
     "start_time": "2023-07-16T17:35:56.726921",
     "status": "completed"
    },
    "tags": []
   },
   "outputs": [],
   "source": [
    "# verified!!\n",
    "def sigmoid(z):\n",
    "    a = 1 / (1 + np.exp(-1 * z))\n",
    "    return a"
   ]
  },
  {
   "cell_type": "code",
   "execution_count": 5,
   "id": "9238ae39",
   "metadata": {
    "execution": {
     "iopub.execute_input": "2023-07-16T17:35:56.758007Z",
     "iopub.status.busy": "2023-07-16T17:35:56.757154Z",
     "iopub.status.idle": "2023-07-16T17:35:56.762295Z",
     "shell.execute_reply": "2023-07-16T17:35:56.761605Z"
    },
    "papermill": {
     "duration": 0.015495,
     "end_time": "2023-07-16T17:35:56.764403",
     "exception": false,
     "start_time": "2023-07-16T17:35:56.748908",
     "status": "completed"
    },
    "tags": []
   },
   "outputs": [],
   "source": [
    "# verified!!\n",
    "def drelu(z):\n",
    "    p = np.where(z < 0, 0, 1)\n",
    "    return p"
   ]
  },
  {
   "cell_type": "code",
   "execution_count": 6,
   "id": "9a24b88a",
   "metadata": {
    "execution": {
     "iopub.execute_input": "2023-07-16T17:35:56.779907Z",
     "iopub.status.busy": "2023-07-16T17:35:56.779522Z",
     "iopub.status.idle": "2023-07-16T17:35:56.784438Z",
     "shell.execute_reply": "2023-07-16T17:35:56.783695Z"
    },
    "papermill": {
     "duration": 0.015228,
     "end_time": "2023-07-16T17:35:56.786470",
     "exception": false,
     "start_time": "2023-07-16T17:35:56.771242",
     "status": "completed"
    },
    "tags": []
   },
   "outputs": [],
   "source": [
    "# verified!!\n",
    "def dsigmoid(z):\n",
    "    p = sigmoid(z) * (1 - sigmoid(z))\n",
    "    return p"
   ]
  },
  {
   "cell_type": "code",
   "execution_count": 7,
   "id": "2251eb89",
   "metadata": {
    "execution": {
     "iopub.execute_input": "2023-07-16T17:35:56.802332Z",
     "iopub.status.busy": "2023-07-16T17:35:56.801677Z",
     "iopub.status.idle": "2023-07-16T17:35:56.807333Z",
     "shell.execute_reply": "2023-07-16T17:35:56.806577Z"
    },
    "papermill": {
     "duration": 0.016085,
     "end_time": "2023-07-16T17:35:56.809429",
     "exception": false,
     "start_time": "2023-07-16T17:35:56.793344",
     "status": "completed"
    },
    "tags": []
   },
   "outputs": [],
   "source": [
    "# i think verified?\n",
    "def forward_prop(W, a, b, activation):\n",
    "    z = np.dot(W, a) + b\n",
    "    if activation == 'relu':\n",
    "        a = relu(z)\n",
    "    else:\n",
    "        a = sigmoid(z)\n",
    "    return z, a"
   ]
  },
  {
   "cell_type": "code",
   "execution_count": 8,
   "id": "696ae9c9",
   "metadata": {
    "execution": {
     "iopub.execute_input": "2023-07-16T17:35:56.825213Z",
     "iopub.status.busy": "2023-07-16T17:35:56.824596Z",
     "iopub.status.idle": "2023-07-16T17:35:56.831608Z",
     "shell.execute_reply": "2023-07-16T17:35:56.830775Z"
    },
    "papermill": {
     "duration": 0.017325,
     "end_time": "2023-07-16T17:35:56.833732",
     "exception": false,
     "start_time": "2023-07-16T17:35:56.816407",
     "status": "completed"
    },
    "tags": []
   },
   "outputs": [],
   "source": [
    "# generates predictions based on input and parameters\n",
    "def predict(params, X, activations):\n",
    "    # this is verified\n",
    "    num_layers = len(activations)\n",
    "    caches = {}\n",
    "    \n",
    "    # good\n",
    "    a = X\n",
    "    caches['a0'] = X\n",
    "    for l in range(1, num_layers + 1):\n",
    "        z, a = forward_prop(params['W' + str(l)], a, params['b' + str(l)], activations[l - 1])\n",
    "        caches['z' + str(l)] = z\n",
    "        caches['a' + str(l)] = a\n",
    "    predictions = a\n",
    "    return predictions, caches"
   ]
  },
  {
   "cell_type": "code",
   "execution_count": 9,
   "id": "30912f96",
   "metadata": {
    "execution": {
     "iopub.execute_input": "2023-07-16T17:35:56.849385Z",
     "iopub.status.busy": "2023-07-16T17:35:56.848804Z",
     "iopub.status.idle": "2023-07-16T17:36:02.262208Z",
     "shell.execute_reply": "2023-07-16T17:36:02.261003Z"
    },
    "papermill": {
     "duration": 5.424352,
     "end_time": "2023-07-16T17:36:02.264938",
     "exception": false,
     "start_time": "2023-07-16T17:35:56.840586",
     "status": "completed"
    },
    "tags": []
   },
   "outputs": [],
   "source": [
    "data = np.loadtxt('/kaggle/input/mnist-in-csv/mnist_train.csv', skiprows = 1, delimiter = ',')\n",
    "X_train = data[:, 1:]\n",
    "Y_train_raw = data[:, 0]"
   ]
  },
  {
   "cell_type": "code",
   "execution_count": 10,
   "id": "c0788702",
   "metadata": {
    "execution": {
     "iopub.execute_input": "2023-07-16T17:36:02.282703Z",
     "iopub.status.busy": "2023-07-16T17:36:02.281940Z",
     "iopub.status.idle": "2023-07-16T17:36:02.287822Z",
     "shell.execute_reply": "2023-07-16T17:36:02.286685Z"
    },
    "papermill": {
     "duration": 0.016513,
     "end_time": "2023-07-16T17:36:02.290054",
     "exception": false,
     "start_time": "2023-07-16T17:36:02.273541",
     "status": "completed"
    },
    "tags": []
   },
   "outputs": [],
   "source": [
    "# verified!!\n",
    "def convert_Y(Y_raw):\n",
    "    Y = np.zeros((Y_raw.shape[0], 10))\n",
    "    for i in range(10):\n",
    "        Y[:, i] = np.where(Y_raw == i, 1, Y[:, i])\n",
    "    return Y"
   ]
  },
  {
   "cell_type": "code",
   "execution_count": 11,
   "id": "9f8508e4",
   "metadata": {
    "execution": {
     "iopub.execute_input": "2023-07-16T17:36:02.305497Z",
     "iopub.status.busy": "2023-07-16T17:36:02.305165Z",
     "iopub.status.idle": "2023-07-16T17:36:02.311828Z",
     "shell.execute_reply": "2023-07-16T17:36:02.310838Z"
    },
    "papermill": {
     "duration": 0.016973,
     "end_time": "2023-07-16T17:36:02.314062",
     "exception": false,
     "start_time": "2023-07-16T17:36:02.297089",
     "status": "completed"
    },
    "tags": []
   },
   "outputs": [],
   "source": [
    "# input: da[l], z[l], a[l - 1]\n",
    "def back_proplite(da, z, a, activation, m):\n",
    "    if activation == 'relu':\n",
    "        dz = drelu(z) * da\n",
    "    else:\n",
    "        dz = dsigmoid(z) * da\n",
    "    dW = 1/m * np.dot(dz, a.T)\n",
    "    db = 1/m * np.sum(dz, axis = 1, keepdims = True)\n",
    "    return dz, dW, db"
   ]
  },
  {
   "cell_type": "code",
   "execution_count": 12,
   "id": "89660b3c",
   "metadata": {
    "execution": {
     "iopub.execute_input": "2023-07-16T17:36:02.329673Z",
     "iopub.status.busy": "2023-07-16T17:36:02.329324Z",
     "iopub.status.idle": "2023-07-16T17:36:02.335191Z",
     "shell.execute_reply": "2023-07-16T17:36:02.334231Z"
    },
    "papermill": {
     "duration": 0.01631,
     "end_time": "2023-07-16T17:36:02.337457",
     "exception": false,
     "start_time": "2023-07-16T17:36:02.321147",
     "status": "completed"
    },
    "tags": []
   },
   "outputs": [],
   "source": [
    "# input: w[l + 1], dz[l + 1], z[l], a[l - 1]\n",
    "# returns: da[l], dz[l], dw[l], db[l]\n",
    "def back_prop(W, dz, z, a, activation, m):\n",
    "    da = np.dot(W.T, dz)\n",
    "    dz, dW, db = back_proplite(da, z, a, activation, m)\n",
    "    return dz, dW, db"
   ]
  },
  {
   "cell_type": "code",
   "execution_count": 13,
   "id": "7c24ed4f",
   "metadata": {
    "execution": {
     "iopub.execute_input": "2023-07-16T17:36:02.353172Z",
     "iopub.status.busy": "2023-07-16T17:36:02.352661Z",
     "iopub.status.idle": "2023-07-16T17:36:02.362555Z",
     "shell.execute_reply": "2023-07-16T17:36:02.361491Z"
    },
    "papermill": {
     "duration": 0.020499,
     "end_time": "2023-07-16T17:36:02.365030",
     "exception": false,
     "start_time": "2023-07-16T17:36:02.344531",
     "status": "completed"
    },
    "tags": []
   },
   "outputs": [],
   "source": [
    "# input: predictions, caches (z and a), params (w and b), Y, activations\n",
    "# output: grads\n",
    "def compute_grads(predictions, caches, params, Y, activations):\n",
    "    m = Y.shape[1]\n",
    "    grads = {}\n",
    "    num_layers = len(activations)\n",
    "    da = predictions - Y\n",
    "    dz, dW, db = back_proplite(da, caches['z' + str(num_layers)], caches['a' + str(num_layers - 1)], activations[num_layers - 1], m)\n",
    "    grads['dW' + str(num_layers)] = dW\n",
    "    grads['db' + str(num_layers)] = db\n",
    "    for l in range(num_layers - 1, 0, -1):\n",
    "        # for l = 1: uses W2, dz2, z1, a0. I don't know why this is wrong?\n",
    "        dz, dW, db = back_prop(params['W' + str(l + 1)], dz, caches['z' + str(l)], caches['a' + str(l - 1)], activations[l - 1], m)\n",
    "        grads['dW' + str(l)] = dW\n",
    "        grads['db' + str(l)] = db\n",
    "    return grads"
   ]
  },
  {
   "cell_type": "code",
   "execution_count": 14,
   "id": "6702bf21",
   "metadata": {
    "execution": {
     "iopub.execute_input": "2023-07-16T17:36:02.381040Z",
     "iopub.status.busy": "2023-07-16T17:36:02.380680Z",
     "iopub.status.idle": "2023-07-16T17:36:02.387454Z",
     "shell.execute_reply": "2023-07-16T17:36:02.386380Z"
    },
    "papermill": {
     "duration": 0.017491,
     "end_time": "2023-07-16T17:36:02.389796",
     "exception": false,
     "start_time": "2023-07-16T17:36:02.372305",
     "status": "completed"
    },
    "tags": []
   },
   "outputs": [],
   "source": [
    "# changes parameters based on gradient\n",
    "def alter_parameters(params, grads, learning_rate):\n",
    "    num_layers = len(params) // 2\n",
    "    print(len(params))\n",
    "    for l in range(1, num_layers + 1):\n",
    "        params['W' + str(l)] -= learning_rate * grads['dW' + str(l)]\n",
    "        params['b' + str(l)] -= learning_rate * grads['db' + str(l)]\n",
    "    return params"
   ]
  },
  {
   "cell_type": "code",
   "execution_count": 15,
   "id": "a19d5e10",
   "metadata": {
    "execution": {
     "iopub.execute_input": "2023-07-16T17:36:02.405736Z",
     "iopub.status.busy": "2023-07-16T17:36:02.405341Z",
     "iopub.status.idle": "2023-07-16T17:36:02.412158Z",
     "shell.execute_reply": "2023-07-16T17:36:02.411046Z"
    },
    "papermill": {
     "duration": 0.017411,
     "end_time": "2023-07-16T17:36:02.414427",
     "exception": false,
     "start_time": "2023-07-16T17:36:02.397016",
     "status": "completed"
    },
    "tags": []
   },
   "outputs": [],
   "source": [
    "# verified? I don't know how to do any better\n",
    "def compute_loss(predictions, Y):\n",
    "    n = Y.shape[0]\n",
    "    m = Y.shape[1]\n",
    "    #loss_array = -1 * Y * np.log(predictions) - (1 - Y) * np.log(1 - predictions)\n",
    "    #loss = 1/m * 1/n * np.squeeze(np.sum(np.sum(loss_array)))\n",
    "    loss = (np.dot(Y, np.log(predictions).T) + np.dot(1-Y, np.log(1 - predictions).T)) * -1/(m * n)\n",
    "    loss = np.squeeze(np.sum(loss))\n",
    "    return loss"
   ]
  },
  {
   "cell_type": "code",
   "execution_count": 16,
   "id": "5777076b",
   "metadata": {
    "execution": {
     "iopub.execute_input": "2023-07-16T17:36:02.430111Z",
     "iopub.status.busy": "2023-07-16T17:36:02.429746Z",
     "iopub.status.idle": "2023-07-16T17:36:02.436156Z",
     "shell.execute_reply": "2023-07-16T17:36:02.435078Z"
    },
    "papermill": {
     "duration": 0.016907,
     "end_time": "2023-07-16T17:36:02.438429",
     "exception": false,
     "start_time": "2023-07-16T17:36:02.421522",
     "status": "completed"
    },
    "tags": []
   },
   "outputs": [],
   "source": [
    "# verified!!\n",
    "def minmax_normalize(X):\n",
    "    for c in range(X.shape[1]):\n",
    "        mn = np.min(X[:, c])\n",
    "        X[:, c] -= mn\n",
    "        rnge = np.ptp(X[:, c])\n",
    "        if(rnge != 0):\n",
    "            X[:, c] /= rnge\n",
    "    \n",
    "    return X"
   ]
  },
  {
   "cell_type": "code",
   "execution_count": 17,
   "id": "5e3bc3a3",
   "metadata": {
    "execution": {
     "iopub.execute_input": "2023-07-16T17:36:02.454397Z",
     "iopub.status.busy": "2023-07-16T17:36:02.454029Z",
     "iopub.status.idle": "2023-07-16T17:36:02.462167Z",
     "shell.execute_reply": "2023-07-16T17:36:02.461138Z"
    },
    "papermill": {
     "duration": 0.018683,
     "end_time": "2023-07-16T17:36:02.464447",
     "exception": false,
     "start_time": "2023-07-16T17:36:02.445764",
     "status": "completed"
    },
    "tags": []
   },
   "outputs": [],
   "source": [
    "# verified!!\n",
    "def minibatches(X, Y, size):\n",
    "    X_batches = []\n",
    "    Y_batches = []\n",
    "    n_complete_batches = X.shape[0] // size\n",
    "    for i in range(n_complete_batches):\n",
    "        start = i * size\n",
    "        end = (i + 1) * size\n",
    "        X_batch = X[start:end, :]\n",
    "        X_batch = minmax_normalize(X_batch)\n",
    "        X_batches.append(X_batch)\n",
    "        Y_batch = Y[start:end, :]\n",
    "        Y_batches.append(Y_batch)\n",
    "    X_batch_final = X[n_complete_batches * size:, :]\n",
    "    Y_batch_final = Y[n_complete_batches * size:, :]\n",
    "    X_batches.append(X_batch_final)\n",
    "    Y_batches.append(Y_batch_final)\n",
    "    return X_batches, Y_batches, n_complete_batches + 1"
   ]
  },
  {
   "cell_type": "code",
   "execution_count": 18,
   "id": "ade3129f",
   "metadata": {
    "execution": {
     "iopub.execute_input": "2023-07-16T17:36:02.480198Z",
     "iopub.status.busy": "2023-07-16T17:36:02.479829Z",
     "iopub.status.idle": "2023-07-16T17:36:02.486053Z",
     "shell.execute_reply": "2023-07-16T17:36:02.484971Z"
    },
    "papermill": {
     "duration": 0.016607,
     "end_time": "2023-07-16T17:36:02.488292",
     "exception": false,
     "start_time": "2023-07-16T17:36:02.471685",
     "status": "completed"
    },
    "tags": []
   },
   "outputs": [],
   "source": [
    "# verified!!\n",
    "def test_accuracy(predictions, Y):\n",
    "    converted_predictions = np.argmax(predictions, axis = 0)\n",
    "    converted_Y = np.argmax(Y, axis = 0)\n",
    "    truth = np.where(converted_predictions == converted_Y, 1, 0)\n",
    "    accuracy = np.squeeze(np.sum(truth)) / truth.shape[0]\n",
    "    return accuracy"
   ]
  },
  {
   "cell_type": "code",
   "execution_count": 19,
   "id": "1b4e0c70",
   "metadata": {
    "execution": {
     "iopub.execute_input": "2023-07-16T17:36:02.503821Z",
     "iopub.status.busy": "2023-07-16T17:36:02.503457Z",
     "iopub.status.idle": "2023-07-16T17:36:02.512622Z",
     "shell.execute_reply": "2023-07-16T17:36:02.511690Z"
    },
    "papermill": {
     "duration": 0.019502,
     "end_time": "2023-07-16T17:36:02.514851",
     "exception": false,
     "start_time": "2023-07-16T17:36:02.495349",
     "status": "completed"
    },
    "tags": []
   },
   "outputs": [],
   "source": [
    "def train_model(X_train, Y_train, layer_sizes, activations, learning_rate, epochs, batch_size):\n",
    "# complete workflow:\n",
    "# initialize random weights\n",
    "# get X_train\n",
    "# array of activation functions\n",
    "\n",
    "# predict\n",
    "# compute gradients\n",
    "# alter parameters\n",
    "    layer_sizes = [784, 16, 16, 16, 10]\n",
    "    params = initialize_random_weights(layer_sizes)\n",
    "    activations = ['relu', 'relu', 'relu', 'sigmoid']\n",
    "    Y_train = convert_Y(Y_train_raw)\n",
    "    m = Y_train.shape[0]\n",
    "    X_batches, Y_batches, n_batches = minibatches(X_train, Y_train, batch_size)\n",
    "\n",
    "\n",
    "    for i in range(epochs):\n",
    "        for j in range(n_batches):\n",
    "            X_batch = X_batches[j]\n",
    "            Y_batch = Y_batches[j]\n",
    "            predictions, caches = predict(params, X_batch.T, activations)\n",
    "            print('loss: ' + str(compute_loss(predictions, Y_batch.T)))\n",
    "            print(test_accuracy(predictions, Y_batch.T))\n",
    "            grads = compute_grads(predictions, caches, params, Y_batch.T, activations)\n",
    "            params = alter_parameters(params, grads, learning_rate)\n",
    "\n",
    "    return params\n",
    "    "
   ]
  },
  {
   "cell_type": "code",
   "execution_count": null,
   "id": "ed9b26b9",
   "metadata": {
    "papermill": {
     "duration": 0.006991,
     "end_time": "2023-07-16T17:36:02.529101",
     "exception": false,
     "start_time": "2023-07-16T17:36:02.522110",
     "status": "completed"
    },
    "tags": []
   },
   "outputs": [],
   "source": []
  }
 ],
 "metadata": {
  "kernelspec": {
   "display_name": "Python 3",
   "language": "python",
   "name": "python3"
  },
  "language_info": {
   "codemirror_mode": {
    "name": "ipython",
    "version": 3
   },
   "file_extension": ".py",
   "mimetype": "text/x-python",
   "name": "python",
   "nbconvert_exporter": "python",
   "pygments_lexer": "ipython3",
   "version": "3.10.12"
  },
  "papermill": {
   "default_parameters": {},
   "duration": 18.502967,
   "end_time": "2023-07-16T17:36:03.457986",
   "environment_variables": {},
   "exception": null,
   "input_path": "__notebook__.ipynb",
   "output_path": "__notebook__.ipynb",
   "parameters": {},
   "start_time": "2023-07-16T17:35:44.955019",
   "version": "2.4.0"
  }
 },
 "nbformat": 4,
 "nbformat_minor": 5
}
